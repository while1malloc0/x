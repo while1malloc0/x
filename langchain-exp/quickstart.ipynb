{
 "cells": [
  {
   "cell_type": "code",
   "execution_count": 65,
   "metadata": {},
   "outputs": [
    {
     "name": "stdout",
     "output_type": "stream",
     "text": [
      "\n",
      "import React from 'react';\n",
      "import ReactDOM from 'react-dom/client';\n",
      "\n",
      "\n",
      "import Table from '@material-ui/core/Table';\n",
      "import TableBody from '@material-ui/core/TableBody';\n",
      "import TableCell from '@material-ui/core/TableCell';\n",
      "import TableHead from '@material-ui/core/TableHead';\n",
      "import TableRow from '@material-ui/core/TableRow';\n",
      "\n",
      "const Component = () => (\n",
      "  <Table>\n",
      "    <TableHead>\n",
      "      <TableRow>\n",
      "        <TableCell>path</TableCell>\n",
      "        <TableCell>env</TableCell>\n",
      "        <TableCell>ref</TableCell>\n",
      "      </TableRow>\n",
      "    </TableHead>\n",
      "    <TableBody>\n",
      "      <TableRow>\n",
      "        <TableCell>foo.bar.baz</TableCell>\n",
      "        <TableCell>FOO_BAR_BAZ</TableCell>\n",
      "        <TableCell>foo.java:52</TableCell>\n",
      "      </TableRow>\n",
      "    </TableBody>\n",
      "  </Table>\n",
      ");\n",
      "\n",
      "export default Component;\n",
      "\n",
      "ReactDOM.createRoot(document.querySelector('#root')).render(<Component />);\n",
      "\n"
     ]
    }
   ],
   "source": [
    "import os\n",
    "\n",
    "from langchain.prompts import PromptTemplate\n",
    "from langchain.llms import OpenAI\n",
    "from langchain.chains import LLMChain\n",
    "from langchain.utilities import TextRequestsWrapper\n",
    "\n",
    "with open (\".openai-api-key\", \"r\") as f:\n",
    "    os.environ[\"OPENAI_API_KEY\"] = f.read().replace(\"\\n\", \"\")\n",
    "\n",
    "llm = OpenAI()\n",
    "\n",
    "prompt = PromptTemplate(input_variables=[\"question\"], template=\"\"\"\n",
    "You are an expert frontend React developer. I will ask you to create a React component for me, and you will return one.\n",
    "\n",
    "The component must always be a function component, never a class component. The component must always be called Component. \n",
    "Do not import React or ReactDOM. You MUST import any other libraries. \n",
    "This is very important: do not export anything! Here are the requirements:\n",
    "\n",
    "{question}\n",
    "\"\"\")\n",
    "\n",
    "chain = LLMChain(llm=llm, prompt=prompt)\n",
    "resp = chain.run(question=\"Write a material UI table with three headers: path, env, and ref. Include an example row with the values 'foo.bar.baz', 'FOO_BAR_BAZ', and 'foo.java:52'\")\n",
    "resp = \"\"\"\n",
    "import React from 'react';\n",
    "import ReactDOM from 'react-dom/client';\n",
    "\n",
    "{}\n",
    "\n",
    "ReactDOM.createRoot(document.querySelector('#root')).render(<Component />);\n",
    "\"\"\".format(resp)\n",
    "\n",
    "print(resp)"
   ]
  },
  {
   "cell_type": "code",
   "execution_count": null,
   "metadata": {},
   "outputs": [],
   "source": []
  },
  {
   "cell_type": "code",
   "execution_count": null,
   "metadata": {},
   "outputs": [],
   "source": []
  }
 ],
 "metadata": {
  "kernelspec": {
   "display_name": "Python 3 (ipykernel)",
   "language": "python",
   "name": "python3"
  },
  "language_info": {
   "codemirror_mode": {
    "name": "ipython",
    "version": 3
   },
   "file_extension": ".py",
   "mimetype": "text/x-python",
   "name": "python",
   "nbconvert_exporter": "python",
   "pygments_lexer": "ipython3",
   "version": "3.10.8"
  }
 },
 "nbformat": 4,
 "nbformat_minor": 2
}
