{
 "cells": [
  {
   "cell_type": "code",
   "execution_count": 27,
   "metadata": {},
   "outputs": [],
   "source": [
    "import os\n",
    "from dotenv import load_dotenv\n",
    "\n",
    "from mastodon import Mastodon\n",
    "\n",
    "load_dotenv()\n",
    "\n",
    "mastodon = Mastodon(\n",
    "    client_id=os.environ[\"MASTODON_CLIENT_ID\"], \n",
    "    client_secret=os.environ[\"MASTODON_CLIENT_SECRET\"],\n",
    "    api_base_url=\"https://hachyderm.io\",\n",
    ")\n",
    "mastodon.log_in(\"johnturner@me.com\", os.environ[\"MASTODON_PASSWORD\"], scopes=[\"read\"])\n",
    "tl = mastodon.timeline_home()"
   ]
  },
  {
   "cell_type": "code",
   "execution_count": 44,
   "metadata": {},
   "outputs": [],
   "source": [
    "from langchain.prompts import PromptTemplate\n",
    "from langchain.llms import OpenAI\n",
    "from langchain.chains import LLMChain\n",
    "from langchain.utilities import TextRequestsWrapper\n",
    "\n",
    "llm = OpenAI()\n",
    "\n",
    "prompt = PromptTemplate(input_variables=[\"toot\"], template=\"\"\"\n",
    "You are a helpful data entry assistant assigned to classify social media posts as positive, negative, or neutral in tone and subject matter. \n",
    "You must only ever output the words positive, negative, or neutral, in all lower case letters.\n",
    "Never explain your reasoning, only give the rating.\n",
    "\n",
    "## Examples\n",
    "\n",
    "# Text: \"Brief introduction to dependency management in Go\"\n",
    "# Output: neutral\n",
    "\n",
    "# Text: \"Fucking guns\"\n",
    "# Output: negative\n",
    "\n",
    "# Text: \"This Pharmacist Said Prisoners Wouldn’t Feel Pain During Lethal Injection. Then Some Shook and Gasped for Air.\"\n",
    "# Output: negative\n",
    "\n",
    "# Text: \"Some cool news to wake up to: The Kaiju Preservation Society is a 2023 Locus Award finalist, in the category of Science Fiction novel, along with work from Maurice Broaddus, Aliette de Bodard, Mary Robinette Kowal, Emily St. John Mandel, Silvia Moreno-Garcia, Tochi Onyebuchi, Adrian Tchaikovsky, Lavie Tidhar and Alastair Reynolds. That's a pretty great peer group. You can see all the finalists in all the categories at the link below. Congratulations to everyone!\"\n",
    "# Output: positive\n",
    "\n",
    "## Classify this\n",
    "\n",
    "# Text: {toot}\n",
    "# Output: \n",
    "\"\"\")\n",
    "\n",
    "chain = LLMChain(llm=llm, prompt=prompt)\n"
   ]
  },
  {
   "cell_type": "code",
   "execution_count": 41,
   "metadata": {},
   "outputs": [],
   "source": [
    "from bs4 import BeautifulSoup\n",
    "\n",
    "def clean(content):\n",
    "    soup = BeautifulSoup(content)\n",
    "    return soup.text\n"
   ]
  },
  {
   "cell_type": "code",
   "execution_count": 45,
   "metadata": {},
   "outputs": [
    {
     "name": "stdout",
     "output_type": "stream",
     "text": [
      "Toot: If you like Mastodon and would like more people on here, it might be good to think about how to make it friendlier and more welcoming—instead of ranting about other sites.You sound exactly like the conservatives on Twitter.\n",
      "Rating: \n",
      "neutral\n",
      "Toot: @morecowbell I just figured out why you gave such a zany and off topic answer when I sent you to my FAQ page.You probably wen to my \"To Do\" list.I was sending you to these two blog posts:https://terikanefield.com/all-new-doj-investigation-faqs/andhttps://terikanefield.com/frequently-asserted-rage-inducing-simplifications/Just FYI.\n",
      "Rating: neutral\n",
      "Toot: Hey, here’s my usual breakdown of Amazon's quarterly business results: https://www.tbray.org/ongoing/When/202x/2023/04/27/Amazon-A1-2023Tl;dr: Amazon retail loses money, but AWS and Advertising emit floods of profit that cover those losses.  Does this sound sane to you?AWS’s growth is slowing but it’s still a damn fine business and should been have spun off from the retail behemoth years ago.\n",
      "Rating: neutral\n",
      "Toot: @kourge @iximeow \"she ld-linux.so.2 on my .text until I—\" [EXTREMELY LOUD INCORRECT BUZZER]\n",
      "Rating: neutral\n",
      "Toot: I'm a huge fan of StAX. I've implemented it a few times in my career. The only thing the #Java spec/interface fucked up was the parameter ordering. /cc: Chris Fry @pmorelli #XML #BEA\n",
      "Rating: positive\n",
      "Toot: My weekly blog post is ready:Important Updates in the Trump Criminal ProbeNow that Trump has been indicted in Manhattan, I did updates on the progress in each of the other three investigations:🔹 The DOJ January 6 investigation🔹The DOJ stolen documents investigation🔹The Georgia investigationhttps://terikanefield.com/important-updates-in-the-trump-criminal-probes/\n",
      "Rating: neutral\n",
      "Toot: With Elon announcing that encrypted Twitter DMs are imminent, based on the fact that to the best of anyone's knowledge Elon hasn't (and probably can't) employ any decent cryptographers, you shouldn't trust it even if it's based on the Signal protocol for the reasons I described last year https://mjg59.dreamwidth.org/62598.html\n",
      "Rating: neutral\n",
      "Toot: If you're tweeting today that AR-15 isn't the problem and that it's not even the most powerful gun or that 2nd Amendment rights shall not be abridged or AR stands for armalite, I already understand you think that gun is far more important than the lives lost repeatedly to it.\n",
      "Rating: negative\n",
      "Toot: Huh, just realized I first wrote about SQLite more than 20 years ago! https://simonwillison.net/2003/Mar/12/moreLightweightSoftware/\n",
      "Rating: positive\n",
      "Toot: @BlackAzizAnansi @Are0h If you take one thing from my little thread here it's this: Black people don't leave the fediverse because of openly racist people.Just like Black people don't leave Boston or San Francisco because of the openly racist people. There are openly racist people everywhere.🤷🏿‍♂️Black people leave the fediverse, Boston, and San Francisco, because of the behavior of the supposed \"non-racist\" people. The combination of extreme racism, and denial of its existence, is too much.\n",
      "Rating: negative\n",
      "Toot: So Black Fediverse users tend to self-select into one of a few buckets:1) Kinda Stubborn (AKA, this isn't my 1st racism): Willing to stay until things improve. People like me, @BlackAzizAnansi etc.2) Super Stubborn (AKA, I will change you!): Willing to stay and fight the tide of the whole Fediverse for as long as it takes to fix things. @Are0h etc.3) Normal People (AKA, life is too short): They just leave the Fediverse. This is most Black folk.The \"3s\" are going from Twitter to BlueSky.🤷🏿‍♂️\n",
      "Rating: neutral\n",
      "Toot: This isn't an exhaustive list, but these 3 are fairly straightforward ones. And they're not new. You can seriously find Black users asking for these going back to 2017.Even trying to discuss these often results in:* You just don't know how the Fediverse works!* Shared deny lists can be abused, so let's never have them!* You just love Twitter! You want quote tweets! You want Elon to hurt you again!\n",
      "Rating: neutral\n",
      "Toot: A good North Star for a lot of my decisions and behaviors as I age: would my wife and kids be proud of me for this?\n",
      "Rating: positive\n",
      "Toot: All of the posts on Mastodon about how the Blue Sky team was silly for releasing a social media network in 2023 without blocking and moderation, even in private beta, and that the Blue Sky team should have known what would happen......are being written on Mastodon: a social media platform that in 2023, still doesn't take into account that Black users face a disproportionate amount of very specific types of abuse, and is missing key features that would make the Black population safer. 🙂🙃\n",
      "Rating: neutral\n",
      "Toot: C'mon, everything playlist, I need a winner here.Daddy needs new ears.\n",
      "Rating: \n",
      "Negative\n",
      "Toot: Made an Initial-V demo video:https://youtu.be/IYRQ0WetT2M\n",
      "Rating: neutral\n",
      "Toot: I’m mostly offline moving for three days and come back to find tech Twitter now unhappy with Mastodon and moving to Bluesky?\n",
      "Rating: neutral\n",
      "Toot: Connect just two dots:1) We in our movement, and our children, are the smart ones, who deserve not just to rule, but to live.2) We in our movement, and our parents, have spent five decades destroying public education.It's not rocket science.\n",
      "Rating: \n",
      "Negative\n",
      "Toot: Wintel is truly dead. Microsoft recorded $18B in profits in Q1 while Intel recorded its largest quarterly loss of all time with -$2.8B lost in Q1.Microsoft and Intel's fortunes have now diverged. Microsoft is now a cloud company and Intel's left behind.https://www.cnbc.com/2023/04/27/intel-intc-earnings-report-q1-2023.html\n",
      "Rating: neutral\n"
     ]
    }
   ],
   "source": [
    "for toot in tl:\n",
    "    content = toot.content\n",
    "    if not content:\n",
    "        content = toot.reblog.content\n",
    "    content = clean(content)\n",
    "    resp = chain.run(toot=content)\n",
    "    print(f\"Toot: {content}\")\n",
    "    print(f\"Rating: {resp}\")"
   ]
  }
 ],
 "metadata": {
  "kernelspec": {
   "display_name": "venv",
   "language": "python",
   "name": "python3"
  },
  "language_info": {
   "codemirror_mode": {
    "name": "ipython",
    "version": 3
   },
   "file_extension": ".py",
   "mimetype": "text/x-python",
   "name": "python",
   "nbconvert_exporter": "python",
   "pygments_lexer": "ipython3",
   "version": "3.10.8"
  },
  "orig_nbformat": 4
 },
 "nbformat": 4,
 "nbformat_minor": 2
}
